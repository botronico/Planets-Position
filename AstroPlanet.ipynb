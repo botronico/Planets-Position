{
  "nbformat": 4,
  "nbformat_minor": 0,
  "metadata": {
    "colab": {
      "provenance": [],
      "authorship_tag": "ABX9TyOTDIQzLf/VsMp+bCCVhuO+",
      "include_colab_link": true
    },
    "kernelspec": {
      "name": "python3",
      "display_name": "Python 3"
    },
    "language_info": {
      "name": "python"
    }
  },
  "cells": [
    {
      "cell_type": "markdown",
      "metadata": {
        "id": "view-in-github",
        "colab_type": "text"
      },
      "source": [
        "<a href=\"https://colab.research.google.com/github/botronico/Planets-Position/blob/main/AstroPlanet.ipynb\" target=\"_parent\"><img src=\"https://colab.research.google.com/assets/colab-badge.svg\" alt=\"Open In Colab\"/></a>"
      ]
    },
    {
      "cell_type": "code",
      "execution_count": 1,
      "metadata": {
        "colab": {
          "base_uri": "https://localhost:8080/"
        },
        "id": "Tm3uN4CJ-Pzw",
        "outputId": "69cef63f-036a-4c00-ab4e-db71ea5ced67"
      },
      "outputs": [
        {
          "output_type": "stream",
          "name": "stdout",
          "text": [
            "Requirement already satisfied: astropy in /usr/local/lib/python3.10/dist-packages (6.1.2)\n",
            "Requirement already satisfied: numpy>=1.23 in /usr/local/lib/python3.10/dist-packages (from astropy) (1.26.4)\n",
            "Requirement already satisfied: pyerfa>=2.0.1.1 in /usr/local/lib/python3.10/dist-packages (from astropy) (2.0.1.4)\n",
            "Requirement already satisfied: astropy-iers-data>=0.2024.7.1.0.34.3 in /usr/local/lib/python3.10/dist-packages (from astropy) (0.2024.8.19.0.32.16)\n",
            "Requirement already satisfied: PyYAML>=3.13 in /usr/local/lib/python3.10/dist-packages (from astropy) (6.0.2)\n",
            "Requirement already satisfied: packaging>=19.0 in /usr/local/lib/python3.10/dist-packages (from astropy) (24.1)\n"
          ]
        }
      ],
      "source": [
        "pip install astropy"
      ]
    },
    {
      "cell_type": "code",
      "source": [
        "from astropy.coordinates import get_body, EarthLocation\n",
        "from astropy.time import Time\n",
        "\n",
        "now = Time.now()\n",
        "\n",
        "location = EarthLocation.of_site('greenwich')\n",
        "\n",
        "planet_name = input(\"Enter the name of the planet: \").lower()\n",
        "\n",
        "planet_position = get_body(planet_name, now, location)\n",
        "\n",
        "print(f\"{planet_name. capitalize()} \"\n",
        "      f\"Position: RA = {planet_position.ra}, \"\n",
        "      f\"Dec = {planet_position.dec}\")"
      ],
      "metadata": {
        "colab": {
          "base_uri": "https://localhost:8080/"
        },
        "id": "nY0mIXn5BZJV",
        "outputId": "ebf8cc6d-d404-4351-ce8a-5bf73a331252"
      },
      "execution_count": 6,
      "outputs": [
        {
          "output_type": "stream",
          "name": "stdout",
          "text": [
            "Enter the name of the planet: Jupiter\n",
            "Jupiter Position: RA = 76.55386743262463 deg, Dec = 22.161076141144065 deg\n"
          ]
        }
      ]
    }
  ]
}